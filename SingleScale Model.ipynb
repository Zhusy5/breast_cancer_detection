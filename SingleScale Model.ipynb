{
 "cells": [
  {
   "cell_type": "markdown",
   "metadata": {
    "colab_type": "text",
    "id": "mmSaUgNHsGf-"
   },
   "source": [
    "# Single-Scale Model\n"
   ]
  },
  {
   "cell_type": "markdown",
   "metadata": {
    "colab_type": "text",
    "id": "BhkF6GRJnFS5"
   },
   "source": [
    "## Package"
   ]
  },
  {
   "cell_type": "code",
   "execution_count": 1,
   "metadata": {
    "colab": {
     "base_uri": "https://localhost:8080/",
     "height": 153
    },
    "colab_type": "code",
    "executionInfo": {
     "elapsed": 7352,
     "status": "ok",
     "timestamp": 1545613952547,
     "user": {
      "displayName": "Siyu Zhu",
      "photoUrl": "https://lh6.googleusercontent.com/-wh_RuQY7GLg/AAAAAAAAAAI/AAAAAAAAAJE/xOW9eRM-EiY/s64/photo.jpg",
      "userId": "05893693916918288312"
     },
     "user_tz": 300
    },
    "id": "M-NoWJbMmqTT",
    "outputId": "e4f62279-814e-4a78-f656-932219844a84"
   },
   "outputs": [
    {
     "name": "stdout",
     "output_type": "stream",
     "text": [
      "\r",
      "Reading package lists... 0%\r",
      "\r",
      "Reading package lists... 0%\r",
      "\r",
      "Reading package lists... 0%\r",
      "\r",
      "Reading package lists... 8%\r",
      "\r",
      "Reading package lists... 8%\r",
      "\r",
      "Reading package lists... 8%\r",
      "\r",
      "Reading package lists... 8%\r",
      "\r",
      "Reading package lists... 81%\r",
      "\r",
      "Reading package lists... 81%\r",
      "\r",
      "Reading package lists... 82%\r",
      "\r",
      "Reading package lists... 82%\r",
      "\r",
      "Reading package lists... 84%\r",
      "\r",
      "Reading package lists... 86%\r",
      "\r",
      "Reading package lists... 86%\r",
      "\r",
      "Reading package lists... 86%\r",
      "\r",
      "Reading package lists... 86%\r",
      "\r",
      "Reading package lists... 94%\r",
      "\r",
      "Reading package lists... 94%\r",
      "\r",
      "Reading package lists... 94%\r",
      "\r",
      "Reading package lists... 94%\r",
      "\r",
      "Reading package lists... 94%\r",
      "\r",
      "Reading package lists... 94%\r",
      "\r",
      "Reading package lists... 96%\r",
      "\r",
      "Reading package lists... 96%\r",
      "\r",
      "Reading package lists... 97%\r",
      "\r",
      "Reading package lists... 97%\r",
      "\r",
      "Reading package lists... 97%\r",
      "\r",
      "Reading package lists... 97%\r",
      "\r",
      "Reading package lists... 98%\r",
      "\r",
      "Reading package lists... 98%\r",
      "\r",
      "Reading package lists... 98%\r",
      "\r",
      "Reading package lists... 98%\r",
      "\r",
      "Reading package lists... 98%\r",
      "\r",
      "Reading package lists... 98%\r",
      "\r",
      "Reading package lists... Done\r\n",
      "\r",
      "Building dependency tree... 0%\r",
      "\r",
      "Building dependency tree... 0%\r",
      "\r",
      "Building dependency tree... 50%\r",
      "\r",
      "Building dependency tree... 50%\r",
      "\r",
      "Building dependency tree       \r\n",
      "\r",
      "Reading state information... 0%\r",
      "\r",
      "Reading state information... 0%\r",
      "\r",
      "Reading state information... Done\r\n",
      "openslide-tools is already the newest version (3.4.1+dfsg-2).\n",
      "0 upgraded, 0 newly installed, 0 to remove and 8 not upgraded.\n",
      "Requirement already satisfied: openslide-python in /usr/local/lib/python3.6/dist-packages (1.1.1)\n",
      "Requirement already satisfied: Pillow in /usr/local/lib/python3.6/dist-packages (from openslide-python) (4.0.0)\n",
      "Requirement already satisfied: olefile in /usr/local/lib/python3.6/dist-packages (from Pillow->openslide-python) (0.46)\n"
     ]
    }
   ],
   "source": [
    "# Install the OpenSlide C library and Python bindings\n",
    "!apt-get install openslide-tools\n",
    "!pip install openslide-python"
   ]
  },
  {
   "cell_type": "code",
   "execution_count": 0,
   "metadata": {
    "colab": {},
    "colab_type": "code",
    "id": "Ws_fS_f13WUd"
   },
   "outputs": [],
   "source": [
    "%matplotlib inline\n",
    "import matplotlib.pyplot as plt\n",
    "import numpy as np\n",
    "from openslide import open_slide, __library_version__ as openslide_version\n",
    "import os\n",
    "from PIL import Image\n",
    "from skimage.color import rgb2gray\n",
    "import cv2\n",
    "import random\n",
    "import tensorflow as tf\n",
    "from tensorflow.keras.applications.inception_v3 import InceptionV3\n",
    "from tensorflow.keras.applications import VGG16\n",
    "from tensorflow.keras import layers, models, optimizers\n",
    "from sklearn import metrics\n",
    "import pandas as pd\n",
    "\n",
    "tf.enable_eager_execution()"
   ]
  },
  {
   "cell_type": "markdown",
   "metadata": {
    "colab_type": "text",
    "id": "q2sABjdhnIRF"
   },
   "source": [
    "## Function"
   ]
  },
  {
   "cell_type": "code",
   "execution_count": 0,
   "metadata": {
    "colab": {},
    "colab_type": "code",
    "id": "PhTQ5mnF3WUm"
   },
   "outputs": [],
   "source": [
    "def read_slide(slide, x, y, level, width, height, as_float=False):\n",
    "    im = slide.read_region((x,y), level, (width, height))\n",
    "    im = im.convert('RGB') # drop the alpha channel\n",
    "    if as_float:\n",
    "        im = np.asarray(im, dtype=np.float32)\n",
    "    else:\n",
    "        im = np.asarray(im)\n",
    "    assert im.shape == (height, width, 3)\n",
    "    return im\n",
    "  \n",
    "def find_tissue_pixels(image, intensity=0.8):\n",
    "    im_gray = rgb2gray(image)\n",
    "    assert im_gray.shape == (image.shape[0], image.shape[1])\n",
    "    indices = np.where(im_gray <= intensity)\n",
    "    return zip(indices[0], indices[1])\n",
    "\n",
    "def apply_mask(im, mask, color= 1):\n",
    "    masked = np.zeros((im.shape[0], im.shape[1]))\n",
    "    for x,y in mask: masked[x][y] = color\n",
    "    return masked\n",
    "  \n",
    "def create_folder(slide_path, level, mode = 'train'):\n",
    "    BASE_DIR = os.getcwd()\n",
    "    \n",
    "    img_num = slide_path.split('_')[1].strip(\".tif\")\n",
    "    \n",
    "    DATA = 'data/'\n",
    "    IMG_NUM_FOLDER = img_num + '/'\n",
    "    LEVEL_FOLDER = str(level) + '/'\n",
    "    \n",
    "    DATA_DIR = os.path.join(BASE_DIR, DATA)\n",
    "    IMG_NUM_DIR = os.path.join(BASE_DIR, DATA, IMG_NUM_FOLDER)\n",
    "    IMG_NUM_LEVEL_DIR = os.path.join(BASE_DIR, DATA, IMG_NUM_FOLDER, LEVEL_FOLDER)\n",
    "       \n",
    "    if not os.path.exists(DATA_DIR):\n",
    "        os.mkdir(DATA_DIR)\n",
    "    if not os.path.exists(IMG_NUM_DIR):\n",
    "        os.mkdir(IMG_NUM_DIR)\n",
    "    if not os.path.exists(IMG_NUM_LEVEL_DIR):\n",
    "        os.mkdir(IMG_NUM_LEVEL_DIR)\n",
    "        \n",
    "    if mode == 'train':\n",
    "        TUMOR_FOLDER = 'tumor/'\n",
    "        NO_TUMOR_FOLDER = 'no_tumor/'\n",
    "        TUMOR_DIR = os.path.join(BASE_DIR, DATA, IMG_NUM_FOLDER, LEVEL_FOLDER, TUMOR_FOLDER)\n",
    "        NO_TUMOR_DIR = os.path.join(BASE_DIR, DATA, IMG_NUM_FOLDER, LEVEL_FOLDER, NO_TUMOR_FOLDER)\n",
    "        if not os.path.exists(TUMOR_DIR):\n",
    "            os.mkdir(TUMOR_DIR)\n",
    "        if not os.path.exists(NO_TUMOR_DIR):\n",
    "            os.mkdir(NO_TUMOR_DIR)\n",
    "        return DATA + IMG_NUM_FOLDER + LEVEL_FOLDER + TUMOR_FOLDER, DATA + IMG_NUM_FOLDER + LEVEL_FOLDER + NO_TUMOR_FOLDER\n",
    "  \n",
    "        \n",
    "    if mode == 'test':\n",
    "        TISSUE_FOLDER = 'tissue_only/'\n",
    "        ALL_FOLDER = 'all/'\n",
    "        TISSUE_DIR  = os.path.join(BASE_DIR, DATA, IMG_NUM_FOLDER, LEVEL_FOLDER, TISSUE_FOLDER)\n",
    "        ALL_DIR = os.path.join(BASE_DIR, DATA, IMG_NUM_FOLDER, LEVEL_FOLDER, ALL_FOLDER)\n",
    "        if not os.path.exists(TISSUE_DIR):\n",
    "            os.mkdir(TISSUE_DIR)\n",
    "        if not os.path.exists(ALL_DIR):\n",
    "            os.mkdir(ALL_DIR)\n",
    "        return DATA + IMG_NUM_FOLDER + LEVEL_FOLDER + TUMOR_FOLDER, DATA + IMG_NUM_FOLDER + LEVEL_FOLDER + ALL_FOLDER\n",
    "  \n",
    "  \n",
    "def save_training_data(im, tumor_mask, tissue_mask,  num_pixels, level, slide_path):\n",
    "    x,y = im.shape[0], im.shape[1]\n",
    "    x_count, y_count = int(np.ceil(x / num_pixels)), int(np.ceil(y/num_pixels))\n",
    "    tumor_folder, no_tumor_folder = create_folder(slide_path, level)\n",
    "    try:\n",
    "        for i in range(x_count):\n",
    "            for j in range(y_count):\n",
    "                im_slice = np.zeros((num_pixels, num_pixels, 3))\n",
    "                tissue_mask_slice = np.zeros((num_pixels, num_pixels))\n",
    "                tumor_mask_slice = np.zeros((num_pixels, num_pixels))\n",
    "                string_name = 'img_level%d_'%(level) + str(i * y_count + j)\n",
    "\n",
    "                if i == x_count-1:\n",
    "                    ub_x = x\n",
    "                    assign_x = x - (x_count-1)*num_pixels\n",
    "                else:\n",
    "                    ub_x = (i+1) * num_pixels\n",
    "                    assign_x = num_pixels\n",
    "\n",
    "                if j == y_count-1:\n",
    "                    ub_y = y\n",
    "                    assign_y = y - (y_count-1)*num_pixels\n",
    "                else:\n",
    "                    ub_y = (j+1) * num_pixels\n",
    "                    assign_y = num_pixels       \n",
    "                \n",
    "                tissue_mask_slice[0:assign_x, 0:assign_y] = tissue_mask[(i*num_pixels) :ub_x, (j * num_pixels) :ub_y]\n",
    "                try:\n",
    "                    if np.mean(tissue_mask_slice) > 0.7:\n",
    "                        im_slice[0:assign_x, 0:assign_y, :] = im[(i*num_pixels) :ub_x, (j * num_pixels) :ub_y, :]\n",
    "                        tumor_mask_slice[0:assign_x, 0:assign_y] = tumor_mask[(i*num_pixels) :ub_x, (j * num_pixels) :ub_y]\n",
    "\n",
    "                        if np.max(tumor_mask_slice) > 0:\n",
    "                            im_file_name = tumor_folder + string_name + \".jpg\" \n",
    "                        else:\n",
    "                            im_file_name = no_tumor_folder + string_name + \".jpg\"\n",
    "                        \n",
    "                        cv2.imwrite(im_file_name, im_slice)\n",
    "                except Exception as oerr:\n",
    "                    print('Error with saving:', oerr)\n",
    "    except Exception as oerr:\n",
    "        print('Error with slicing:', oerr) \n",
    "        \n",
    "def save_test_data(im, tissue_mask, num_pixels, level_num, slide_path):\n",
    "    x,y = im.shape[0], im.shape[1]\n",
    "    x_count, y_count = int(np.ceil(x / num_pixels)), int(np.ceil(y/num_pixels))\n",
    "    tissue_folder, all_folder = create_folder(slide_path, mode = 'test')\n",
    "    try:\n",
    "        for i in range(x_count):\n",
    "            for j in range(y_count):\n",
    "                im_slice = np.zeros((num_pixels, num_pixels, 3))\n",
    "                im_tissue_slice = np.zeros((num_pixels, num_pixels, 3))\n",
    "                tissue_mask_slice = np.zeros((num_pixels, num_pixels))\n",
    "                string_name = 'img_level%d_'%(level_num) + str(i * y_count + j)\n",
    "\n",
    "                if i == x_count-1:\n",
    "                    ub_x = x\n",
    "                    assign_x = x - (x_count-1)*num_pixels\n",
    "                else:\n",
    "                    ub_x = (i+1) * num_pixels\n",
    "                    assign_x = num_pixels\n",
    "\n",
    "                if j == y_count-1:\n",
    "                    ub_y = y\n",
    "                    assign_y = y - (y_count-1)*num_pixels\n",
    "                else:\n",
    "                    ub_y = (j+1) * num_pixels\n",
    "                    assign_y = num_pixels       \n",
    "\n",
    "                tissue_mask_slice[0:assign_x, 0:assign_y] = tissue_mask[(i*num_pixels) :ub_x, (j * num_pixels) :ub_y]\n",
    "\n",
    "                try:\n",
    "                    if np.mean(tissue_mask_slice) > 0.7:\n",
    "                        im_tissue_slice[0:assign_x, 0:assign_y, :] = im[(i*num_pixels) :ub_x, (j * num_pixels) :ub_y, :]\n",
    "                        im_file_name_tissue = tissue_folder + string_name + \".jpg\"\n",
    "                        cv2.imwrite(im_file_name_tissue, im_tissue_slice)\n",
    "                    im_slice[0:assign_x, 0:assign_y, :] = im[(i*num_pixels) :ub_x, (j * num_pixels) :ub_y, :]\n",
    "                    im_file_name_all = all_folder + string_name + \".jpg\"\n",
    "                    cv2.imwrite(im_file_name_all, im_slice)\n",
    "                except Exception as oerr:\n",
    "                    print('Error with saving:', oerr)\n",
    "    except Exception as oerr:\n",
    "        print('Error with slicing:', oerr)\n",
    "\n",
    "        \n",
    "def LoadImage(path):\n",
    "    image = tf.read_file(path)\n",
    "    image = tf.image.decode_jpeg(image, channels=3)\n",
    "    image = tf.image.resize_images(image, [128, 128])\n",
    "    image /= 255.0\n",
    "    return image\n",
    "\n",
    "def evaluate_result(predictions, tissue_regions, mask_image):\n",
    "    scale = int(mask_image.shape[0]/predictions.shape[0])\n",
    "    predictions_scaled = np.kron(predictions, np.ones((scale, scale)))\n",
    "    predictions_scaled = predictions_scaled.reshape(-1)\n",
    "    \n",
    "    mask_image = mask_image.reshape(-1)\n",
    "    tissue_regions = tissue_regions.reshape(-1)\n",
    "  \n",
    "    predictions_scaled = predictions_scaled[tissue_regions == 1]\n",
    "    mask_image = mask_image[tissue_regions == 1]\n",
    "  \n",
    "    p = metrics.precision_score(mask_image, predictions_scaled)\n",
    "    print('Precision:', p)\n",
    "    r = metrics.recall_score(mask_image, predictions_scaled)\n",
    "    print('Recall:', r)\n",
    "    f = metrics.f1_score(mask_image, predictions_scaled)\n",
    "    print('F1:', f)\n",
    "    auc = metrics.roc_auc_score(mask_image, predictions_scaled)\n",
    "    print('AUC score:', auc)\n",
    "  \n",
    "    fpr, tpr, _ = metrics.roc_curve(mask_image, predictions_scaled)\n",
    "    plt.figure()\n",
    "    lw = 2\n",
    "    plt.plot(fpr, tpr, color='darkorange', lw=lw, label='ROC curve (area = %0.2f)' % auc)\n",
    "    plt.plot([0, 1], [0, 1], color='navy', lw=lw, linestyle='--')\n",
    "    plt.xlim([0.0, 1.0])\n",
    "    plt.ylim([0.0, 1.05])\n",
    "    plt.xlabel('False Positive Rate')\n",
    "    plt.ylabel('True Positive Rate')\n",
    "    plt.title('Receiver operating characteristic example')\n",
    "    plt.legend(loc=\"lower right\")\n",
    "    plt.show()\n",
    "  \n",
    "    cm = metrics.confusion_matrix(mask_image, predictions_scaled)\n",
    "    df_cm = pd.DataFrame(cm,columns = ['Predicted 0', 'Predicted 1'])\n",
    "    df_cm.index = ['Reality 0', 'Reality 1']\n",
    "    print('Confusion Matrix:')\n",
    "    df_cm = pd.DataFrame(cm,columns = ['Predicted 0', 'Predicted 1'])\n",
    "    df_cm.index = ['Reality 0', 'Reality 1']\n",
    "    print(df_cm)\n",
    "    df_cm_percent = df_cm\n",
    "    df_cm_percent['Predicted 0'] = 100*df_cm_percent['Predicted 0']/len(mask_image)\n",
    "    df_cm_percent['Predicted 1'] = 100*df_cm_percent['Predicted 1']/len(mask_image)\n",
    "    print(df_cm_percent)"
   ]
  },
  {
   "cell_type": "markdown",
   "metadata": {
    "colab_type": "text",
    "id": "TuOZ0qYbmxcR"
   },
   "source": [
    "# Data"
   ]
  },
  {
   "cell_type": "markdown",
   "metadata": {
    "colab_type": "text",
    "id": "ghSP69pVm_vw"
   },
   "source": [
    "## Downloading Data"
   ]
  },
  {
   "cell_type": "code",
   "execution_count": 0,
   "metadata": {
    "colab": {},
    "colab_type": "code",
    "id": "_pUuXanl3WUg"
   },
   "outputs": [],
   "source": [
    "# Download an example slide and tumor mask\n",
    "# Note: these are hosted on Google Cloud Storage.\n",
    "# The remainder are in a Google Drive folder, linked above.\n",
    "\n",
    "slide_path_091 = 'tumor_091.tif'\n",
    "tumor_mask_path_091 = 'tumor_091_mask.tif'\n",
    "\n",
    "slide_url_091 = 'https://storage.googleapis.com/applied-dl/%s' % slide_path_091\n",
    "mask_url_091 = 'https://storage.googleapis.com/applied-dl/%s' % tumor_mask_path_091\n",
    "\n",
    "# Download the whole slide image\n",
    "if not os.path.exists(slide_path_091):\n",
    "  !curl -O $slide_url_091\n",
    "\n",
    "# Download the tumor mask\n",
    "if not os.path.exists(tumor_mask_path_091):\n",
    "  !curl -O $mask_url_091"
   ]
  },
  {
   "cell_type": "code",
   "execution_count": 5,
   "metadata": {
    "colab": {
     "base_uri": "https://localhost:8080/",
     "height": 204
    },
    "colab_type": "code",
    "executionInfo": {
     "elapsed": 282,
     "status": "ok",
     "timestamp": 1545613967924,
     "user": {
      "displayName": "Siyu Zhu",
      "photoUrl": "https://lh6.googleusercontent.com/-wh_RuQY7GLg/AAAAAAAAAAI/AAAAAAAAAJE/xOW9eRM-EiY/s64/photo.jpg",
      "userId": "05893693916918288312"
     },
     "user_tz": 300
    },
    "id": "K8-ID7XCAIJ1",
    "outputId": "bb14f7d9-3546-4fad-c173-d7e351ddee46"
   },
   "outputs": [
    {
     "name": "stdout",
     "output_type": "stream",
     "text": [
      "Read WSI from tumor_091.tif with width: 61440, height: 53760\n",
      "Read tumor mask from tumor_091_mask.tif\n",
      "Slide includes 8 levels\n",
      "Level 0, dimensions: (61440, 53760) downsample factor 1\n",
      "Level 1, dimensions: (30720, 26880) downsample factor 2\n",
      "Level 2, dimensions: (15360, 13440) downsample factor 4\n",
      "Level 3, dimensions: (7680, 6720) downsample factor 8\n",
      "Level 4, dimensions: (3840, 3360) downsample factor 16\n",
      "Level 5, dimensions: (1920, 1680) downsample factor 32\n",
      "Level 6, dimensions: (960, 840) downsample factor 64\n",
      "Level 7, dimensions: (480, 420) downsample factor 128\n"
     ]
    }
   ],
   "source": [
    "slide_091 = open_slide(slide_path_091)\n",
    "print (\"Read WSI from %s with width: %d, height: %d\" % (slide_path_091, \n",
    "                                                        slide_091.level_dimensions[0][0], \n",
    "                                                        slide_091.level_dimensions[0][1]))\n",
    "\n",
    "tumor_mask_091 = open_slide(tumor_mask_path_091)\n",
    "print (\"Read tumor mask from %s\" % (tumor_mask_path_091))\n",
    "\n",
    "print(\"Slide includes %d levels\" % len(slide_091.level_dimensions))\n",
    "for i in range(len(slide_091.level_dimensions)):\n",
    "    print(\"Level %d, dimensions: %s downsample factor %d\" % (i, \n",
    "                                                             slide_091.level_dimensions[i], \n",
    "                                                             slide_091.level_downsamples[i]))\n",
    "    assert tumor_mask_091.level_dimensions[i][0] == slide_091.level_dimensions[i][0]\n",
    "    assert tumor_mask_091.level_dimensions[i][1] == slide_091.level_dimensions[i][1]\n",
    "\n",
    "width, height = slide_091.level_dimensions[7]\n",
    "assert width * slide_091.level_downsamples[7] == slide_091.level_dimensions[0][0]\n",
    "assert height * slide_091.level_downsamples[7] == slide_091.level_dimensions[0][1]"
   ]
  },
  {
   "cell_type": "code",
   "execution_count": 6,
   "metadata": {
    "colab": {
     "base_uri": "https://localhost:8080/",
     "height": 34
    },
    "colab_type": "code",
    "executionInfo": {
     "elapsed": 17583,
     "status": "ok",
     "timestamp": 1545613986351,
     "user": {
      "displayName": "Siyu Zhu",
      "photoUrl": "https://lh6.googleusercontent.com/-wh_RuQY7GLg/AAAAAAAAAAI/AAAAAAAAAJE/xOW9eRM-EiY/s64/photo.jpg",
      "userId": "05893693916918288312"
     },
     "user_tz": 300
    },
    "id": "GwOnzdTjlN2o",
    "outputId": "a81217f7-2dc1-476d-ebd1-e4c1d3fa2c48"
   },
   "outputs": [
    {
     "name": "stdout",
     "output_type": "stream",
     "text": [
      "13344403 tissue_pixels pixels (29.6 percent of the image)\n"
     ]
    }
   ],
   "source": [
    "def read_slide(slide, x, y, level, width, height, as_float=False):\n",
    "    im = slide.read_region((x,y), level, (width, height))\n",
    "    im = im.convert('RGB') # drop the alpha channel\n",
    "    if as_float:\n",
    "        im = np.asarray(im, dtype=np.float32)\n",
    "    else:\n",
    "        im = np.asarray(im)\n",
    "    assert im.shape == (height, width, 3)\n",
    "    return im\n",
    "\n",
    "def find_tissue_pixels(image, intensity=0.8):\n",
    "    im_gray = rgb2gray(image)\n",
    "    assert im_gray.shape == (image.shape[0], image.shape[1])\n",
    "    indices = np.where(im_gray <= intensity)\n",
    "    return zip(indices[0], indices[1])\n",
    "\n",
    "def apply_mask(im, mask, color= 1):\n",
    "    masked = np.zeros((im.shape[0], im.shape[1]))\n",
    "    for x,y in mask: masked[x][y] = color\n",
    "    return masked\n",
    "\n",
    "levelNO = 3 # level number\n",
    "slide_image_091_L3 = read_slide(slide_091, \n",
    "                         x=0, \n",
    "                         y=0, \n",
    "                         level=levelNO, \n",
    "                         width=slide_091.level_dimensions[levelNO][0], \n",
    "                         height=slide_091.level_dimensions[levelNO][1])\n",
    "\n",
    "mask_image_091_L3 = read_slide(tumor_mask_091, \n",
    "                        x=0, \n",
    "                        y=0, \n",
    "                        level=levelNO, \n",
    "                        width=slide_091.level_dimensions[levelNO][0], \n",
    "                        height=slide_091.level_dimensions[levelNO][1])\n",
    "\n",
    "mask_image_091_L3 = mask_image_091_L3[:,:,0] \n",
    "\n",
    "tissue_pixels_091_L3 = list(find_tissue_pixels(slide_image_091_L3))\n",
    "\n",
    "percent_tissue_091_L3 = len(tissue_pixels_091_L3) / float(slide_image_091_L3.shape[0] * slide_image_091_L3.shape[0]) * 100\n",
    "\n",
    "print (\"%d tissue_pixels pixels (%.1f percent of the image)\" % (len(tissue_pixels_091_L3), percent_tissue_091_L3))\n",
    "\n",
    "tissue_regions_091_L3 = apply_mask(slide_image_091_L3, tissue_pixels_091_L3)"
   ]
  },
  {
   "cell_type": "code",
   "execution_count": 0,
   "metadata": {
    "colab": {},
    "colab_type": "code",
    "id": "JMSo-FQpl9wH"
   },
   "outputs": [],
   "source": [
    "def create_folder(slide_path, level, mode = 'train'):\n",
    "    BASE_DIR = os.getcwd()\n",
    "    \n",
    "    img_num = slide_path.split('_')[1].strip(\".tif\")\n",
    "    \n",
    "    DATA = 'data/'\n",
    "    IMG_NUM_FOLDER = img_num + '/'\n",
    "    LEVEL_FOLDER = str(level) + '/'\n",
    "    \n",
    "    DATA_DIR = os.path.join(BASE_DIR, DATA)\n",
    "    IMG_NUM_DIR = os.path.join(BASE_DIR, DATA, IMG_NUM_FOLDER)\n",
    "    IMG_NUM_LEVEL_DIR = os.path.join(BASE_DIR, DATA, IMG_NUM_FOLDER, LEVEL_FOLDER)\n",
    "       \n",
    "    if not os.path.exists(DATA_DIR):\n",
    "        os.mkdir(DATA_DIR)\n",
    "    if not os.path.exists(IMG_NUM_DIR):\n",
    "        os.mkdir(IMG_NUM_DIR)\n",
    "    if not os.path.exists(IMG_NUM_LEVEL_DIR):\n",
    "        os.mkdir(IMG_NUM_LEVEL_DIR)\n",
    "        \n",
    "    if mode == 'train':\n",
    "        TUMOR_FOLDER = 'tumor/'\n",
    "        NO_TUMOR_FOLDER = 'no_tumor/'\n",
    "        TUMOR_DIR = os.path.join(BASE_DIR, DATA, IMG_NUM_FOLDER, LEVEL_FOLDER, TUMOR_FOLDER)\n",
    "        NO_TUMOR_DIR = os.path.join(BASE_DIR, DATA, IMG_NUM_FOLDER, LEVEL_FOLDER, NO_TUMOR_FOLDER)\n",
    "        if not os.path.exists(TUMOR_DIR):\n",
    "            os.mkdir(TUMOR_DIR)\n",
    "        if not os.path.exists(NO_TUMOR_DIR):\n",
    "            os.mkdir(NO_TUMOR_DIR)\n",
    "        return DATA + IMG_NUM_FOLDER + LEVEL_FOLDER + TUMOR_FOLDER, DATA + IMG_NUM_FOLDER + LEVEL_FOLDER + NO_TUMOR_FOLDER\n",
    "  \n",
    "        \n",
    "    if mode == 'test':\n",
    "        TISSUE_FOLDER = 'tissue_only/'\n",
    "        ALL_FOLDER = 'all/'\n",
    "        TISSUE_DIR  = os.path.join(BASE_DIR, DATA, IMG_NUM_FOLDER, LEVEL_FOLDER, TISSUE_FOLDER)\n",
    "        ALL_DIR = os.path.join(BASE_DIR, DATA, IMG_NUM_FOLDER, LEVEL_FOLDER, ALL_FOLDER)\n",
    "        if not os.path.exists(TISSUE_DIR):\n",
    "            os.mkdir(TISSUE_DIR)\n",
    "        if not os.path.exists(ALL_DIR):\n",
    "            os.mkdir(ALL_DIR)\n",
    "        return DATA + IMG_NUM_FOLDER + LEVEL_FOLDER + TISSUE_FOLDER, DATA + IMG_NUM_FOLDER + LEVEL_FOLDER + ALL_FOLDER\n",
    "\n",
    "def save_training_data(im, tumor_mask, tissue_mask,  num_pixels, level, slide_path):\n",
    "    x,y = im.shape[0], im.shape[1]\n",
    "    x_count, y_count = int(np.ceil(x / num_pixels)), int(np.ceil(y/num_pixels))\n",
    "    tumor_folder, no_tumor_folder = create_folder(slide_path, level)\n",
    "    try:\n",
    "        for i in range(x_count):\n",
    "            for j in range(y_count):\n",
    "                im_slice = np.zeros((num_pixels, num_pixels, 3))\n",
    "                tissue_mask_slice = np.zeros((num_pixels, num_pixels))\n",
    "                tumor_mask_slice = np.zeros((num_pixels, num_pixels))\n",
    "                string_name = 'img_level%d_'%(level) + str(i * y_count + j)\n",
    "\n",
    "                if i == x_count-1:\n",
    "                    ub_x = x\n",
    "                    assign_x = x - (x_count-1)*num_pixels\n",
    "                else:\n",
    "                    ub_x = (i+1) * num_pixels\n",
    "                    assign_x = num_pixels\n",
    "\n",
    "                if j == y_count-1:\n",
    "                    ub_y = y\n",
    "                    assign_y = y - (y_count-1)*num_pixels\n",
    "                else:\n",
    "                    ub_y = (j+1) * num_pixels\n",
    "                    assign_y = num_pixels       \n",
    "                \n",
    "                tissue_mask_slice[0:assign_x, 0:assign_y] = tissue_mask[(i*num_pixels) :ub_x, (j * num_pixels) :ub_y]\n",
    "                try:\n",
    "                    if np.mean(tissue_mask_slice) > 0.7:\n",
    "                        im_slice[0:assign_x, 0:assign_y, :] = im[(i*num_pixels) :ub_x, (j * num_pixels) :ub_y, :]\n",
    "                        tumor_mask_slice[0:assign_x, 0:assign_y] = tumor_mask[(i*num_pixels) :ub_x, (j * num_pixels) :ub_y]\n",
    "\n",
    "                        if np.max(tumor_mask_slice) > 0:\n",
    "                            im_file_name = tumor_folder + string_name + \".jpg\" \n",
    "                        else:\n",
    "                            im_file_name = no_tumor_folder + string_name + \".jpg\"\n",
    "                        \n",
    "                        cv2.imwrite(im_file_name, im_slice)\n",
    "                except Exception as oerr:\n",
    "                    print('Error with saving:', oerr)\n",
    "    except Exception as oerr:\n",
    "        print('Error with slicing:', oerr) \n",
    "\n",
    "\n",
    "num_pixels = 64\n",
    "save_training_data(slide_image_091_L3, mask_image_091_L3, tissue_regions_091_L3, num_pixels, levelNO, slide_path_091)"
   ]
  },
  {
   "cell_type": "markdown",
   "metadata": {
    "colab_type": "text",
    "id": "HJEfieFrmbUn"
   },
   "source": [
    "## Preparing Training Data"
   ]
  },
  {
   "cell_type": "code",
   "execution_count": 0,
   "metadata": {
    "colab": {},
    "colab_type": "code",
    "id": "6F0yFmXdmT4l"
   },
   "outputs": [],
   "source": [
    "BasePath = '/content/data/'\n",
    "img_num = '091'\n",
    "ImagePaths_tumor_091_L3 = [BasePath + img_num + '/'+str(levelNO)+'/'+ '/tumor/' + x for x in os.listdir(BasePath + img_num + '/'+str(levelNO)+'/' + '/tumor')]\n",
    "ImagePaths_notumor_091_L3 = [BasePath + img_num + '/'+str(levelNO)+'/'+ '/no_tumor/' + x for x in os.listdir(BasePath + img_num + '/'+str(levelNO)+'/' + '/no_tumor')]\n",
    "num_tumor_091_L3 = len(ImagePaths_tumor_091_L3)\n",
    "ImagePaths_notumor_091_L3 = ImagePaths_notumor_091_L3[0:num_tumor_091_L3]\n",
    "\n",
    "ImagePaths_091_L3 = np.array([str(path) for path in ImagePaths_tumor_091_L3 + ImagePaths_notumor_091_L3])\n",
    "ImageLabels_091_L3 = np.array([1]*num_tumor_091_L3 + [0]*num_tumor_091_L3)\n",
    "shuffle_index = np.arange(len(ImagePaths_091_L3))\n",
    "np.random.shuffle(shuffle_index)\n",
    "ImageLabels_091_L3 = ImageLabels_091_L3[shuffle_index]\n",
    "ImagePaths_091_L3 = ImagePaths_091_L3[shuffle_index]"
   ]
  },
  {
   "cell_type": "code",
   "execution_count": 0,
   "metadata": {
    "colab": {},
    "colab_type": "code",
    "id": "6g01cMs6nZ1s"
   },
   "outputs": [],
   "source": [
    "def LoadImage(path):\n",
    "    image = tf.read_file(path)\n",
    "    image = tf.image.decode_jpeg(image, channels=3)\n",
    "    image = tf.image.resize_images(image, [128, 128])\n",
    "    image /= 255.0\n",
    "    return image\n",
    "\n",
    "path_dataset = tf.data.Dataset.from_tensor_slices(ImagePaths_091_L3)\n",
    "image_dataset_091_L3 = path_dataset.map(LoadImage, num_parallel_calls=8)\n",
    "\n",
    "label_dataset_091_L3 = tf.data.Dataset.from_tensor_slices(tf.cast(ImageLabels_091_L3, tf.int64))\n",
    "dataset_091_L3 = tf.data.Dataset.zip((image_dataset_091_L3, label_dataset_091_L3))"
   ]
  },
  {
   "cell_type": "markdown",
   "metadata": {
    "colab_type": "text",
    "id": "UAr0oBejpEJG"
   },
   "source": [
    "# VGG16"
   ]
  },
  {
   "cell_type": "markdown",
   "metadata": {
    "colab_type": "text",
    "id": "1vPDWlo7s31X"
   },
   "source": [
    "## Train"
   ]
  },
  {
   "cell_type": "code",
   "execution_count": 10,
   "metadata": {
    "colab": {
     "base_uri": "https://localhost:8080/",
     "height": 326
    },
    "colab_type": "code",
    "executionInfo": {
     "elapsed": 19725,
     "status": "ok",
     "timestamp": 1545613995289,
     "user": {
      "displayName": "Siyu Zhu",
      "photoUrl": "https://lh6.googleusercontent.com/-wh_RuQY7GLg/AAAAAAAAAAI/AAAAAAAAAJE/xOW9eRM-EiY/s64/photo.jpg",
      "userId": "05893693916918288312"
     },
     "user_tz": 300
    },
    "id": "n9u8JZPnpDKw",
    "outputId": "36e88014-4784-49fe-c562-f13143b7fb38"
   },
   "outputs": [
    {
     "name": "stdout",
     "output_type": "stream",
     "text": [
      "Downloading data from https://github.com/fchollet/deep-learning-models/releases/download/v0.1/vgg16_weights_tf_dim_ordering_tf_kernels_notop.h5\n",
      "58892288/58889256 [==============================] - 5s 0us/step\n",
      "_________________________________________________________________\n",
      "Layer (type)                 Output Shape              Param #   \n",
      "=================================================================\n",
      "vgg16 (Model)                (None, 4, 4, 512)         14714688  \n",
      "_________________________________________________________________\n",
      "flatten (Flatten)            (None, 8192)              0         \n",
      "_________________________________________________________________\n",
      "dense (Dense)                (None, 32)                262176    \n",
      "_________________________________________________________________\n",
      "dense_1 (Dense)              (None, 2)                 66        \n",
      "=================================================================\n",
      "Total params: 14,976,930\n",
      "Trainable params: 262,242\n",
      "Non-trainable params: 14,714,688\n",
      "_________________________________________________________________\n"
     ]
    }
   ],
   "source": [
    "base_model = VGG16(weights='imagenet', include_top=False, input_shape=(128, 128, 3))\n",
    "base_model.trainable = False\n",
    "\n",
    "model1 = models.Sequential()\n",
    "model1.add(base_model)\n",
    "model1.add(layers.Flatten())\n",
    "model1.add(layers.Dense(32, activation='relu'))\n",
    "model1.add(layers.Dense(2, activation='softmax'))\n",
    "model1.summary()\n",
    "\n",
    "model1.compile(optimizer=tf.train.AdamOptimizer(),\n",
    "               loss=tf.keras.losses.sparse_categorical_crossentropy,\n",
    "               metrics=['acc'])"
   ]
  },
  {
   "cell_type": "code",
   "execution_count": 0,
   "metadata": {
    "colab": {
     "base_uri": "https://localhost:8080/",
     "height": 580
    },
    "colab_type": "code",
    "executionInfo": {
     "elapsed": 584,
     "status": "ok",
     "timestamp": 1545508341220,
     "user": {
      "displayName": "Siyu Zhu",
      "photoUrl": "https://lh6.googleusercontent.com/-wh_RuQY7GLg/AAAAAAAAAAI/AAAAAAAAAJE/xOW9eRM-EiY/s64/photo.jpg",
      "userId": "05893693916918288312"
     },
     "user_tz": 300
    },
    "id": "LzDImiLkpqFs",
    "outputId": "14875831-d329-4994-9677-148d8d320cf9"
   },
   "outputs": [
    {
     "name": "stdout",
     "output_type": "stream",
     "text": [
      "{'loss': [0.6555885129115161, 0.5159766954534194, 0.42201758658184724, 0.37582169385517344, 0.3309189440572963, 0.34911518763093385, 0.32094566348721, 0.23516108446261463], 'acc': [0.6525735294117647, 0.7573529411764706, 0.7996323529411765, 0.8474264705882353, 0.875, 0.8455882352941176, 0.8694852941176471, 0.9154411764705882]}\n"
     ]
    },
    {
     "data": {
      "image/png": "[encoded data removed]",
      "text/plain": [
       "<matplotlib.figure.Figure at 0x7f824792bf60>"
      ]
     },
     "metadata": {
      "tags": []
     },
     "output_type": "display_data"
    },
    {
     "data": {
      "image/png": "[encoded data removed]",
      "text/plain": [
       "<matplotlib.figure.Figure at 0x7f824792bef0>"
      ]
     },
     "metadata": {
      "tags": []
     },
     "output_type": "display_data"
    }
   ],
   "source": [
    "print(history1.history)\n",
    "\n",
    "acc = history1.history['acc']\n",
    "loss = history1.history['loss']\n",
    "epochs = range(1, len(acc) + 1)\n",
    "\n",
    "plt.plot(epochs, acc, 'bo', label='Training acc')\n",
    "plt.title('Training and validation accuracy')\n",
    "plt.legend()\n",
    "plt.figure()\n",
    "\n",
    "plt.plot(epochs, loss, 'bo', label='Training loss')\n",
    "plt.title('Training and validation loss')\n",
    "plt.legend()\n",
    "plt.show()"
   ]
  },
  {
   "cell_type": "markdown",
   "metadata": {
    "colab_type": "text",
    "id": "Lmrw2MFhs6fY"
   },
   "source": [
    "## Test"
   ]
  },
  {
   "cell_type": "markdown",
   "metadata": {
    "colab_type": "text",
    "id": "sxzIgU8DqLNa"
   },
   "source": [
    "### Preparing Testing Data"
   ]
  },
  {
   "cell_type": "code",
   "execution_count": 0,
   "metadata": {
    "colab": {
     "base_uri": "https://localhost:8080/",
     "height": 34
    },
    "colab_type": "code",
    "executionInfo": {
     "elapsed": 4345,
     "status": "ok",
     "timestamp": 1545509754200,
     "user": {
      "displayName": "Siyu Zhu",
      "photoUrl": "https://lh6.googleusercontent.com/-wh_RuQY7GLg/AAAAAAAAAAI/AAAAAAAAAJE/xOW9eRM-EiY/s64/photo.jpg",
      "userId": "05893693916918288312"
     },
     "user_tz": 300
    },
    "id": "ebZPopGhrbCo",
    "outputId": "789f3007-36bd-4187-82d5-0921d5f22c83"
   },
   "outputs": [
    {
     "name": "stdout",
     "output_type": "stream",
     "text": [
      "2605\n"
     ]
    }
   ],
   "source": [
    "def create_folder(slide_path, level, mode = 'train'):\n",
    "    BASE_DIR = os.getcwd()\n",
    "    \n",
    "    img_num = slide_path.split('_')[1].strip(\".tif\")\n",
    "    \n",
    "    DATA = 'data/'\n",
    "    IMG_NUM_FOLDER = img_num + '/'\n",
    "    LEVEL_FOLDER = str(level) + '/'\n",
    "    \n",
    "    DATA_DIR = os.path.join(BASE_DIR, DATA)\n",
    "    IMG_NUM_DIR = os.path.join(BASE_DIR, DATA, IMG_NUM_FOLDER)\n",
    "    IMG_NUM_LEVEL_DIR = os.path.join(BASE_DIR, DATA, IMG_NUM_FOLDER, LEVEL_FOLDER)\n",
    "       \n",
    "    if not os.path.exists(DATA_DIR):\n",
    "        os.mkdir(DATA_DIR)\n",
    "    if not os.path.exists(IMG_NUM_DIR):\n",
    "        os.mkdir(IMG_NUM_DIR)\n",
    "    if not os.path.exists(IMG_NUM_LEVEL_DIR):\n",
    "        os.mkdir(IMG_NUM_LEVEL_DIR)\n",
    "        \n",
    "    if mode == 'train':\n",
    "        TUMOR_FOLDER = 'tumor/'\n",
    "        NO_TUMOR_FOLDER = 'no_tumor/'\n",
    "        TUMOR_DIR = os.path.join(BASE_DIR, DATA, IMG_NUM_FOLDER, LEVEL_FOLDER, TUMOR_FOLDER)\n",
    "        NO_TUMOR_DIR = os.path.join(BASE_DIR, DATA, IMG_NUM_FOLDER, LEVEL_FOLDER, NO_TUMOR_FOLDER)\n",
    "        if not os.path.exists(TUMOR_DIR):\n",
    "            os.mkdir(TUMOR_DIR)\n",
    "        if not os.path.exists(NO_TUMOR_DIR):\n",
    "            os.mkdir(NO_TUMOR_DIR)\n",
    "        return DATA + IMG_NUM_FOLDER + LEVEL_FOLDER + TUMOR_FOLDER, DATA + IMG_NUM_FOLDER + LEVEL_FOLDER + NO_TUMOR_FOLDER\n",
    "  \n",
    "        \n",
    "    if mode == 'test':\n",
    "        TISSUE_FOLDER = 'tissue_only/'\n",
    "        ALL_FOLDER = 'all/'\n",
    "        TISSUE_DIR  = os.path.join(BASE_DIR, DATA, IMG_NUM_FOLDER, LEVEL_FOLDER, TISSUE_FOLDER)\n",
    "        ALL_DIR = os.path.join(BASE_DIR, DATA, IMG_NUM_FOLDER, LEVEL_FOLDER, ALL_FOLDER)\n",
    "        if not os.path.exists(TISSUE_DIR):\n",
    "            os.mkdir(TISSUE_DIR)\n",
    "        if not os.path.exists(ALL_DIR):\n",
    "            os.mkdir(ALL_DIR)\n",
    "        return DATA + IMG_NUM_FOLDER + LEVEL_FOLDER + TISSUE_FOLDER, DATA + IMG_NUM_FOLDER + LEVEL_FOLDER + ALL_FOLDER\n",
    "\n",
    "def save_test_data(im, tissue_mask, num_pixels, level_num, slide_path):\n",
    "    x,y = im.shape[0], im.shape[1]\n",
    "    x_count, y_count = int(np.ceil(x / num_pixels)), int(np.ceil(y/num_pixels))\n",
    "    tissue_folder, all_folder = create_folder(slide_path, level_num, mode = 'test')\n",
    "    try:\n",
    "        for i in range(x_count):\n",
    "            for j in range(y_count):\n",
    "                im_slice = np.zeros((num_pixels, num_pixels, 3))\n",
    "                im_tissue_slice = np.zeros((num_pixels, num_pixels, 3))\n",
    "                tissue_mask_slice = np.zeros((num_pixels, num_pixels))\n",
    "                string_name = 'img_level%d_'%(level_num) + str(i * y_count + j)\n",
    "\n",
    "                if i == x_count-1:\n",
    "                    ub_x = x\n",
    "                    assign_x = x - (x_count-1)*num_pixels\n",
    "                else:\n",
    "                    ub_x = (i+1) * num_pixels\n",
    "                    assign_x = num_pixels\n",
    "\n",
    "                if j == y_count-1:\n",
    "                    ub_y = y\n",
    "                    assign_y = y - (y_count-1)*num_pixels\n",
    "                else:\n",
    "                    ub_y = (j+1) * num_pixels\n",
    "                    assign_y = num_pixels       \n",
    "\n",
    "                tissue_mask_slice[0:assign_x, 0:assign_y] = tissue_mask[(i*num_pixels) :ub_x, (j * num_pixels) :ub_y]\n",
    "\n",
    "                try:\n",
    "                    if np.mean(tissue_mask_slice) > 0.7:\n",
    "                        im_tissue_slice[0:assign_x, 0:assign_y, :] = im[(i*num_pixels) :ub_x, (j * num_pixels) :ub_y, :]\n",
    "                        im_file_name_tissue = tissue_folder + string_name + \".jpg\"\n",
    "                        cv2.imwrite(im_file_name_tissue, im_tissue_slice)\n",
    "                    im_slice[0:assign_x, 0:assign_y, :] = im[(i*num_pixels) :ub_x, (j * num_pixels) :ub_y, :]\n",
    "                    im_file_name_all = all_folder + string_name + \".jpg\"\n",
    "                    cv2.imwrite(im_file_name_all, im_slice)\n",
    "                except Exception as oerr:\n",
    "                    print('Error with saving:', oerr)\n",
    "    except Exception as oerr:\n",
    "        print('Error with slicing:', oerr)\n",
    "\n",
    "num_pixels = 64\n",
    "level_num = 2\n",
    "save_test_data(slide_image_091_L3, tissue_regions_091_L3, num_pixels, level_num, slide_path_091)\n",
    "\n",
    "img_num = '091'\n",
    "img_test_folder = 'tissue_only'\n",
    "data_root = BasePath + img_num + '/' + str(level_num)+'/'+ img_test_folder\n",
    "ImagePaths_test = [data_root + '/' + x for x in os.listdir(data_root)]\n",
    "print(len(ImagePaths_test))\n",
    "\n",
    "\n",
    "path_dataset_test = tf.data.Dataset.from_tensor_slices(ImagePaths_test)\n",
    "image_dataset_test = path_dataset_test.map(LoadImage, num_parallel_calls=8)\n",
    "dataset_test = tf.data.Dataset.zip((image_dataset_test,))\n"
   ]
  },
  {
   "cell_type": "code",
   "execution_count": 0,
   "metadata": {
    "colab": {},
    "colab_type": "code",
    "id": "V34G-ZFArbCu"
   },
   "outputs": [],
   "source": [
    "BATCH_SIZE = 32\n",
    "ds_test = dataset_test.repeat()\n",
    "ds_test = ds_test.batch(BATCH_SIZE, drop_remainder = True)\n",
    "ds_test = ds_test.prefetch(1)"
   ]
  },
  {
   "cell_type": "markdown",
   "metadata": {
    "colab_type": "text",
    "id": "l7l9g4ZGalw1"
   },
   "source": [
    "### Predict & Evaluation"
   ]
  },
  {
   "cell_type": "code",
   "execution_count": 0,
   "metadata": {
    "colab": {},
    "colab_type": "code",
    "id": "nNoCVou-s2U7"
   },
   "outputs": [],
   "source": [
    "test = model1.predict(ds_test, steps = int(np.ceil(len(ImagePaths_test)/BATCH_SIZE )))"
   ]
  },
  {
   "cell_type": "code",
   "execution_count": 0,
   "metadata": {
    "colab": {
     "base_uri": "https://localhost:8080/",
     "height": 34
    },
    "colab_type": "code",
    "executionInfo": {
     "elapsed": 305,
     "status": "ok",
     "timestamp": 1545513935224,
     "user": {
      "displayName": "Siyu Zhu",
      "photoUrl": "https://lh6.googleusercontent.com/-wh_RuQY7GLg/AAAAAAAAAAI/AAAAAAAAAJE/xOW9eRM-EiY/s64/photo.jpg",
      "userId": "05893693916918288312"
     },
     "user_tz": 300
    },
    "id": "GNclj1TGxmiT",
    "outputId": "1509e0ba-dbb7-4f4e-abde-45c4e466a18e"
   },
   "outputs": [
    {
     "name": "stdout",
     "output_type": "stream",
     "text": [
      "105 120\n"
     ]
    }
   ],
   "source": [
    "img_num = np.zeros(len(ImagePaths_test))\n",
    "for i in range(len(ImagePaths_test)):\n",
    "    img_num[i] = int(ImagePaths_test[i].strip('.jpg').split('/')[-1].split('_')[-1])\n",
    "    \n",
    "depth, width = int(np.ceil(.shape[0]/num_pixels)), int(np.ceil(slide_image_091_L3.shape[1]/num_pixels))\n",
    "print(depth, width)slide_image_091_L3\n",
    "\n",
    "probabilities = np.zeros((depth, width))\n",
    "predictions = np.zeros((depth, width))\n",
    "\n",
    "conf_threshold = 0.7\n",
    "for i in range(len(ImagePaths_test)):\n",
    "    y = int(img_num[i] // width)\n",
    "    x = int(np.mod(img_num[i], width))\n",
    "    probabilities[y,x] = test[i][1]\n",
    "    predictions[y,x] = int(test[i][1] > conf_threshold)"
   ]
  },
  {
   "cell_type": "code",
   "execution_count": 0,
   "metadata": {
    "colab": {
     "base_uri": "https://localhost:8080/",
     "height": 1086
    },
    "colab_type": "code",
    "executionInfo": {
     "elapsed": 3742,
     "status": "ok",
     "timestamp": 1545513944777,
     "user": {
      "displayName": "Siyu Zhu",
      "photoUrl": "https://lh6.googleusercontent.com/-wh_RuQY7GLg/AAAAAAAAAAI/AAAAAAAAAJE/xOW9eRM-EiY/s64/photo.jpg",
      "userId": "05893693916918288312"
     },
     "user_tz": 300
    },
    "id": "t0nIUxHax1JO",
    "outputId": "a8c080e9-1763-4533-93dd-7f21cf2de169"
   },
   "outputs": [
    {
     "data": {
      "text/plain": [
       "Text(0.5,1,'Predicted Heatmap')"
      ]
     },
     "execution_count": 78,
     "metadata": {
      "tags": []
     },
     "output_type": "execute_result"
    },
    {
     "data": {
      "image/png": "[encoded data removed]",
      "text/plain": [
       "<matplotlib.figure.Figure at 0x7f8244dacfd0>"
      ]
     },
     "metadata": {
      "tags": []
     },
     "output_type": "display_data"
    },
    {
     "data": {
      "image/png": "[encoded data removed]",
      "text/plain": [
       "<matplotlib.figure.Figure at 0x7f8244dcc7f0>"
      ]
     },
     "metadata": {
      "tags": []
     },
     "output_type": "display_data"
    },
    {
     "data": {
      "image/png": "[encoded data removed]",
      "text/plain": [
       "<matplotlib.figure.Figure at 0x7f8244d956a0>"
      ]
     },
     "metadata": {
      "tags": []
     },
     "output_type": "display_data"
    },
    {
     "data": {
      "image/png": "[encoded data removed]",
      "text/plain": [
       "<matplotlib.figure.Figure at 0x7f8244d56550>"
      ]
     },
     "metadata": {
      "tags": []
     },
     "output_type": "display_data"
    }
   ],
   "source": [
    "fig1, ax1 = plt.subplots()\n",
    "plt.imshow(tissue_regions_091_L3)\n",
    "ax1.set_title(\"Original Image\")\n",
    "\n",
    "fig2, ax2 = plt.subplots()\n",
    "plt.imshow(mask_image_091_L3)\n",
    "ax2.set_title(\"Actual Tumor Mask\")\n",
    "\n",
    "fig3, ax3 = plt.subplots()\n",
    "plt.imshow(predictions)\n",
    "ax3.set_title(\"Predicted Tumor Mask\")\n",
    "\n",
    "fig3, ax3 = plt.subplots()\n",
    "plt.imshow(probabilities)\n",
    "ax3.set_title(\"Predicted Heatmap\")"
   ]
  },
  {
   "cell_type": "code",
   "execution_count": 0,
   "metadata": {
    "colab": {
     "base_uri": "https://localhost:8080/",
     "height": 34
    },
    "colab_type": "code",
    "executionInfo": {
     "elapsed": 282,
     "status": "ok",
     "timestamp": 1545514351541,
     "user": {
      "displayName": "Siyu Zhu",
      "photoUrl": "https://lh6.googleusercontent.com/-wh_RuQY7GLg/AAAAAAAAAAI/AAAAAAAAAJE/xOW9eRM-EiY/s64/photo.jpg",
      "userId": "05893693916918288312"
     },
     "user_tz": 300
    },
    "id": "tRGzBatR1UEL",
    "outputId": "2f743557-afd6-4ea4-fd3d-1891406eb18a"
   },
   "outputs": [
    {
     "data": {
      "text/plain": [
       "(105, 120)"
      ]
     },
     "execution_count": 79,
     "metadata": {
      "tags": []
     },
     "output_type": "execute_result"
    }
   ],
   "source": [
    "predictions.shape"
   ]
  },
  {
   "cell_type": "code",
   "execution_count": 0,
   "metadata": {
    "colab": {
     "base_uri": "https://localhost:8080/",
     "height": 481
    },
    "colab_type": "code",
    "id": "vPwfLeb9M7SU",
    "outputId": "7425ef16-35e6-46f2-e149-70f46fe1d62a"
   },
   "outputs": [
    {
     "name": "stdout",
     "output_type": "stream",
     "text": [
      "Precision: 0.8229082612204013\n",
      "Recall: 0.730507130232405\n",
      "F1: 0.7739595676162921\n",
      "AUC score 0.860713142189962\n"
     ]
    },
    {
     "data": {
      "image/png": "[encoded data removed]",
      "text/plain": [
       "<matplotlib.figure.Figure at 0x7f7ef08a9518>"
      ]
     },
     "metadata": {
      "tags": []
     },
     "output_type": "display_data"
    },
    {
     "name": "stdout",
     "output_type": "stream",
     "text": [
      "Confusion Matrix:\n",
      "           Predicted 0  Predicted 1\n",
      "Reality 0     12501114       114561\n",
      "Reality 1       196387       532341\n",
      "           Predicted 0  Predicted 1\n",
      "Reality 0    93.680579     0.858495\n",
      "Reality 1     1.471681     3.989246\n"
     ]
    }
   ],
   "source": [
    "def evaluate_result(predictions, tissue_regions, mask_image):\n",
    "    scale = int(mask_image.shape[0]/predictions.shape[0])\n",
    "    predictions_scaled = np.kron(predictions, np.ones((scale, scale)))\n",
    "    predictions_scaled = predictions_scaled.reshape(-1)\n",
    "    \n",
    "    mask_image = mask_image.reshape(-1)\n",
    "    tissue_regions = tissue_regions.reshape(-1)\n",
    "  \n",
    "    predictions_scaled = predictions_scaled[tissue_regions == 1]\n",
    "    mask_image = mask_image[tissue_regions == 1]\n",
    "  \n",
    "    p = metrics.precision_score(mask_image, predictions_scaled)\n",
    "    print('Precision:', p)\n",
    "    r = metrics.recall_score(mask_image, predictions_scaled)\n",
    "    print('Recall:', r)\n",
    "    f = metrics.f1_score(mask_image, predictions_scaled)\n",
    "    print('F1:', f)\n",
    "    auc = metrics.roc_auc_score(mask_image, predictions_scaled)\n",
    "    print('AUC score:', auc)\n",
    "  \n",
    "    fpr, tpr, _ = metrics.roc_curve(mask_image, predictions_scaled)\n",
    "    plt.figure()\n",
    "    lw = 2\n",
    "    plt.plot(fpr, tpr, color='darkorange', lw=lw, label='ROC curve (area = %0.2f)' % auc)\n",
    "    plt.plot([0, 1], [0, 1], color='navy', lw=lw, linestyle='--')\n",
    "    plt.xlim([0.0, 1.0])\n",
    "    plt.ylim([0.0, 1.05])\n",
    "    plt.xlabel('False Positive Rate')\n",
    "    plt.ylabel('True Positive Rate')\n",
    "    plt.title('Receiver operating characteristic example')\n",
    "    plt.legend(loc=\"lower right\")\n",
    "    plt.show()\n",
    "  \n",
    "    cm = metrics.confusion_matrix(mask_image, predictions_scaled)\n",
    "    df_cm = pd.DataFrame(cm,columns = ['Predicted 0', 'Predicted 1'])\n",
    "    df_cm.index = ['Reality 0', 'Reality 1']\n",
    "    print('Confusion Matrix:')\n",
    "    df_cm = pd.DataFrame(cm,columns = ['Predicted 0', 'Predicted 1'])\n",
    "    df_cm.index = ['Reality 0', 'Reality 1']\n",
    "    print(df_cm)\n",
    "    df_cm_percent = df_cm\n",
    "    df_cm_percent['Predicted 0'] = 100*df_cm_percent['Predicted 0']/len(mask_image)\n",
    "    df_cm_percent['Predicted 1'] = 100*df_cm_percent['Predicted 1']/len(mask_image)\n",
    "    print(df_cm_percent)\n",
    "    \n",
    "evaluate_result(predictions, tissue_regions_091_L3, mask_image_091_L3)"
   ]
  },
  {
   "cell_type": "markdown",
   "metadata": {
    "colab_type": "text",
    "id": "T2gtHN5paWvR"
   },
   "source": [
    "# InceptionV3\n"
   ]
  },
  {
   "cell_type": "markdown",
   "metadata": {
    "colab_type": "text",
    "id": "hjMKgW0x3dq9"
   },
   "source": [
    "## Train"
   ]
  },
  {
   "cell_type": "code",
   "execution_count": 0,
   "metadata": {
    "colab": {
     "base_uri": "https://localhost:8080/",
     "height": 272
    },
    "colab_type": "code",
    "id": "83UHdtsZvvMN",
    "outputId": "f1023dd3-1365-43b0-bedc-2f79a36b0b6f"
   },
   "outputs": [
    {
     "name": "stdout",
     "output_type": "stream",
     "text": [
      "_________________________________________________________________\n",
      "Layer (type)                 Output Shape              Param #   \n",
      "=================================================================\n",
      "inception_v3 (Model)         (None, 2, 2, 2048)        21802784  \n",
      "_________________________________________________________________\n",
      "flatten_2 (Flatten)          (None, 8192)              0         \n",
      "_________________________________________________________________\n",
      "dense_5 (Dense)              (None, 32)                262176    \n",
      "_________________________________________________________________\n",
      "dense_6 (Dense)              (None, 2)                 66        \n",
      "=================================================================\n",
      "Total params: 22,065,026\n",
      "Trainable params: 262,242\n",
      "Non-trainable params: 21,802,784\n",
      "_________________________________________________________________\n"
     ]
    }
   ],
   "source": [
    "base_model = InceptionV3(weights='imagenet', include_top=False, input_shape=(128, 128, 3))\n",
    "base_model.trainable = False\n",
    "\n",
    "model2 = models.Sequential()\n",
    "model2.add(base_model)\n",
    "model2.add(layers.Flatten())\n",
    "model2.add(layers.Dense(32, activation='relu'))\n",
    "model2.add(layers.Dense(2, activation='softmax'))\n",
    "model2.summary()\n",
    "\n",
    "model2.compile(optimizer=tf.train.AdamOptimizer(),\n",
    "               loss=tf.keras.losses.sparse_categorical_crossentropy,\n",
    "               metrics=['acc'])"
   ]
  },
  {
   "cell_type": "code",
   "execution_count": 0,
   "metadata": {
    "colab": {
     "base_uri": "https://localhost:8080/",
     "height": 289
    },
    "colab_type": "code",
    "id": "MZ-UsDzbvvMV",
    "outputId": "b6eecef6-0c8c-42eb-c60b-8311b41e3779"
   },
   "outputs": [
    {
     "name": "stdout",
     "output_type": "stream",
     "text": [
      "Epoch 1/8\n",
      "17/17 [==============================] - 127s 7s/step - loss: 0.6053 - acc: 0.7188\n",
      "Epoch 2/8\n",
      "17/17 [==============================] - 123s 7s/step - loss: 0.5998 - acc: 0.7445\n",
      "Epoch 3/8\n",
      "17/17 [==============================] - 124s 7s/step - loss: 0.5970 - acc: 0.7316\n",
      "Epoch 4/8\n",
      "17/17 [==============================] - 122s 7s/step - loss: 0.5726 - acc: 0.7610\n",
      "Epoch 5/8\n",
      "17/17 [==============================] - 122s 7s/step - loss: 0.5619 - acc: 0.7592\n",
      "Epoch 6/8\n",
      "17/17 [==============================] - 123s 7s/step - loss: 0.5449 - acc: 0.7794\n",
      "Epoch 7/8\n",
      "17/17 [==============================] - 121s 7s/step - loss: 0.5616 - acc: 0.7537\n",
      "Epoch 8/8\n",
      "17/17 [==============================] - 122s 7s/step - loss: 0.5699 - acc: 0.7702\n"
     ]
    }
   ],
   "source": [
    "history2 = model2.fit(ds_091_L3, epochs=8, steps_per_epoch=int(np.ceil(len(ImagePaths_091_L3)/BATCH_SIZE)))"
   ]
  },
  {
   "cell_type": "code",
   "execution_count": 0,
   "metadata": {
    "colab": {
     "base_uri": "https://localhost:8080/",
     "height": 580
    },
    "colab_type": "code",
    "id": "3RnQ9gGJvvMY",
    "outputId": "f529c5c2-0d9d-4b9f-edb6-bd1037572f9b"
   },
   "outputs": [
    {
     "name": "stdout",
     "output_type": "stream",
     "text": [
      "{'loss': [0.6052770965239581, 0.5998327837270849, 0.5970358620671665, 0.5725897480459774, 0.5618933649624095, 0.5448883070665247, 0.561552528072806, 0.5699426724630243], 'acc': [0.71875, 0.7444852941176471, 0.7316176470588235, 0.7610294117647058, 0.7591911764705882, 0.7794117647058824, 0.7536764705882353, 0.7702205882352942]}\n"
     ]
    },
    {
     "data": {
      "image/png": "[encoded data removed]",
      "text/plain": [
       "<matplotlib.figure.Figure at 0x7f7ef0203470>"
      ]
     },
     "metadata": {
      "tags": []
     },
     "output_type": "display_data"
    },
    {
     "data": {
      "image/png": "[encoded data removed]",
      "text/plain": [
       "<matplotlib.figure.Figure at 0x7f7ef023c358>"
      ]
     },
     "metadata": {
      "tags": []
     },
     "output_type": "display_data"
    }
   ],
   "source": [
    "print(history2.history)\n",
    "\n",
    "acc = history2.history['acc']\n",
    "loss = history2.history['loss']\n",
    "epochs = range(1, len(acc) + 1)\n",
    "\n",
    "plt.plot(epochs, acc, 'bo', label='Training acc')\n",
    "plt.title('Training and validation accuracy')\n",
    "plt.legend()\n",
    "\n",
    "plt.figure()\n",
    "\n",
    "plt.plot(epochs, loss, 'bo', label='Training loss')\n",
    "plt.title('Training and validation loss')\n",
    "plt.legend()\n",
    "\n",
    "plt.show()"
   ]
  },
  {
   "cell_type": "markdown",
   "metadata": {
    "colab_type": "text",
    "id": "AmqrIvFzin1j"
   },
   "source": [
    "## Test"
   ]
  },
  {
   "cell_type": "code",
   "execution_count": 0,
   "metadata": {
    "colab": {},
    "colab_type": "code",
    "id": "p0v8aqqwpbLS"
   },
   "outputs": [],
   "source": [
    "test = model2.predict(ds_test, steps = int(np.ceil(len(ImagePaths_test)/BATCH_SIZE )))"
   ]
  },
  {
   "cell_type": "code",
   "execution_count": 0,
   "metadata": {
    "colab": {
     "base_uri": "https://localhost:8080/",
     "height": 34
    },
    "colab_type": "code",
    "id": "mna5swptEayO",
    "outputId": "e35490f4-7ab0-47cf-b9aa-9f66e14b9ac9"
   },
   "outputs": [
    {
     "name": "stdout",
     "output_type": "stream",
     "text": [
      "105 120\n"
     ]
    }
   ],
   "source": [
    "img_num = np.zeros(len(ImagePaths_test))\n",
    "for i in range(len(ImagePaths_test)):\n",
    "    img_num[i] = int(ImagePaths_test[i].strip('.jpg').split('/')[-1].split('_')[-1])\n",
    "    \n",
    "depth, width = int(np.ceil(slide_image_091_L3.shape[0]/num_pixels)), int(np.ceil(slide_image_091_L3.shape[1]/num_pixels))\n",
    "print(depth, width)\n",
    "\n",
    "probabilities = np.zeros((depth, width))\n",
    "predictions = np.zeros((depth, width))\n",
    "conf_threshold = 0.6\n",
    "for i in range(len(ImagePaths_test)):\n",
    "    y = int(img_num[i] // width)\n",
    "    x = int(np.mod(img_num[i], width))\n",
    "    probabilities[y,x] = test[i][1]\n",
    "    predictions[y,x] = int(test[i][1] > conf_threshold)"
   ]
  },
  {
   "cell_type": "code",
   "execution_count": 0,
   "metadata": {
    "colab": {
     "base_uri": "https://localhost:8080/",
     "height": 1086
    },
    "colab_type": "code",
    "id": "HKHXEa4vEayV",
    "outputId": "bd589346-5e4d-4c23-cc6a-34724e9f0797"
   },
   "outputs": [
    {
     "data": {
      "text/plain": [
       "Text(0.5,1,'Predicted Heatmap')"
      ]
     },
     "execution_count": 50,
     "metadata": {
      "tags": []
     },
     "output_type": "execute_result"
    },
    {
     "data": {
      "image/png": "[encoded data removed]",
      "text/plain": [
       "<matplotlib.figure.Figure at 0x7f7eedc91780>"
      ]
     },
     "metadata": {
      "tags": []
     },
     "output_type": "display_data"
    },
    {
     "data": {
      "image/png": "[encoded data removed]",
      "text/plain": [
       "<matplotlib.figure.Figure at 0x7f7eeddb7358>"
      ]
     },
     "metadata": {
      "tags": []
     },
     "output_type": "display_data"
    },
    {
     "data": {
      "image/png": "[encoded data removed]",
      "text/plain": [
       "<matplotlib.figure.Figure at 0x7f7eeddd47f0>"
      ]
     },
     "metadata": {
      "tags": []
     },
     "output_type": "display_data"
    },
    {
     "data": {
      "image/png": "[encoded data removed]",
      "text/plain": [
       "<matplotlib.figure.Figure at 0x7f7ef03b5f28>"
      ]
     },
     "metadata": {
      "tags": []
     },
     "output_type": "display_data"
    }
   ],
   "source": [
    "fig1, ax1 = plt.subplots()\n",
    "plt.imshow(tissue_regions_091_L3)\n",
    "ax1.set_title(\"Original Image\")\n",
    "\n",
    "fig2, ax2 = plt.subplots()\n",
    "plt.imshow(mask_image_091_L3)\n",
    "ax2.set_title(\"Actual Tumor Mask\")\n",
    "\n",
    "fig3, ax3 = plt.subplots()\n",
    "plt.imshow(predictions)\n",
    "ax3.set_title(\"Predicted Tumor Mask\")\n",
    "\n",
    "fig3, ax3 = plt.subplots()\n",
    "plt.imshow(probabilities)\n",
    "ax3.set_title(\"Predicted Heatmap\")"
   ]
  },
  {
   "cell_type": "code",
   "execution_count": 0,
   "metadata": {
    "colab": {
     "base_uri": "https://localhost:8080/",
     "height": 481
    },
    "colab_type": "code",
    "id": "RaXht0xcpbLu",
    "outputId": "76fdbebb-0d8e-4470-a4eb-d1734e2aac38"
   },
   "outputs": [
    {
     "name": "stdout",
     "output_type": "stream",
     "text": [
      "Precision: 0.3175437996878416\n",
      "Recall: 0.6502234029706557\n",
      "F1: 0.42670263976308903\n",
      "AUC score 0.7847509994222199\n"
     ]
    },
    {
     "data": {
      "image/png": "[encoded data removed]",
      "text/plain": [
       "<matplotlib.figure.Figure at 0x7f7eeda35c88>"
      ]
     },
     "metadata": {
      "tags": []
     },
     "output_type": "display_data"
    },
    {
     "name": "stdout",
     "output_type": "stream",
     "text": [
      "Confusion Matrix:\n",
      "           Predicted 0  Predicted 1\n",
      "Reality 0     11597320      1018355\n",
      "Reality 1       254892       473836\n",
      "           Predicted 0  Predicted 1\n",
      "Reality 0    86.907747     7.631327\n",
      "Reality 1     1.910104     3.550822\n"
     ]
    }
   ],
   "source": [
    "evaluate_result(predictions, tissue_regions_091_L3, mask_image_091_L3)"
   ]
  }
 ],
 "metadata": {
  "accelerator": "GPU",
  "colab": {
   "collapsed_sections": [],
   "name": "Single-Scale Model.ipynb",
   "provenance": [],
   "version": "0.3.2"
  },
  "kernelspec": {
   "display_name": "Python 3",
   "language": "python",
   "name": "python3"
  },
  "language_info": {
   "codemirror_mode": {
    "name": "ipython",
    "version": 3
   },
   "file_extension": ".py",
   "mimetype": "text/x-python",
   "name": "python",
   "nbconvert_exporter": "python",
   "pygments_lexer": "ipython3",
   "version": "3.6.5"
  },
  "toc": {
   "base_numbering": 1,
   "nav_menu": {},
   "number_sections": true,
   "sideBar": true,
   "skip_h1_title": false,
   "title_cell": "Table of Contents",
   "title_sidebar": "Contents",
   "toc_cell": false,
   "toc_position": {},
   "toc_section_display": true,
   "toc_window_display": false
  }
 },
 "nbformat": 4,
 "nbformat_minor": 1
}
